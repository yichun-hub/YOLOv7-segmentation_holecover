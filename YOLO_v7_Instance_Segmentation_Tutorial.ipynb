{
  "cells": [
    {
      "cell_type": "markdown",
      "metadata": {
        "id": "view-in-github",
        "colab_type": "text"
      },
      "source": [
        "<a href=\"https://colab.research.google.com/github/yichun-hub/YOLOv7-segmentation_holecover/blob/main/YOLO_v7_Instance_Segmentation_Tutorial.ipynb\" target=\"_parent\"><img src=\"https://colab.research.google.com/assets/colab-badge.svg\" alt=\"Open In Colab\"/></a>"
      ]
    },
    {
      "cell_type": "markdown",
      "source": [
        "# YOLOv7 Instance Segmentation Tutorial\n",
        "\n",
        "---\n",
        "Implementation of Yolov7 segmentation is based on Yolov5.\n",
        "  \n",
        "The tutorial contains the training and testing process.\n",
        "\n",
        "The custom data is holecovers on the road inclunding manhole and handhole.\n",
        "\n",
        "Compared with other traditional segmentation models, you can browse my [github](https://github.com/yichun-hub) to get more information.\n"
      ],
      "metadata": {
        "id": "bH-JzZNMjfhL"
      }
    },
    {
      "cell_type": "markdown",
      "source": [
        "# Setup\n",
        "\n",
        "---\n",
        "Clone YOLOv7 segmentation project and move to the local Google Drive\n",
        "1. git clone\n",
        "2. Download Folders from Colab\n",
        "3. Upzip the project\n",
        "4. Download the pretrained weight\n",
        "5. Check Pytorch version \n",
        "6. Download Detectron2 package"
      ],
      "metadata": {
        "id": "iVuODv59ia2N"
      }
    },
    {
      "cell_type": "code",
      "execution_count": null,
      "metadata": {
        "colab": {
          "base_uri": "https://localhost:8080/"
        },
        "id": "HnAORzjjaGtF",
        "outputId": "ac956055-ca42-46d1-bb2b-f3bb2d93fa96"
      },
      "outputs": [
        {
          "output_type": "stream",
          "name": "stdout",
          "text": [
            "Mounted at /content/drive\n"
          ]
        }
      ],
      "source": [
        "#mount on the Google Drive\n",
        "from google.colab import drive\n",
        "drive.mount('/content/drive')"
      ]
    },
    {
      "cell_type": "markdown",
      "source": [
        "Clone yolov7 segmentation code"
      ],
      "metadata": {
        "id": "18dp2Y_mfO8w"
      }
    },
    {
      "cell_type": "code",
      "source": [
        "!git clone https://github.com/WongKinYiu/yolov7 -b u7 yolov7-seg"
      ],
      "metadata": {
        "id": "Ng5s8La5iyk_",
        "colab": {
          "base_uri": "https://localhost:8080/"
        },
        "outputId": "e0e463db-5fa6-42dc-92f4-99513df39c23"
      },
      "execution_count": null,
      "outputs": [
        {
          "output_type": "stream",
          "name": "stdout",
          "text": [
            "Cloning into 'yolov7-seg'...\n",
            "remote: Enumerating objects: 1139, done.\u001b[K\n",
            "remote: Total 1139 (delta 0), reused 0 (delta 0), pack-reused 1139\u001b[K\n",
            "Receiving objects: 100% (1139/1139), 70.32 MiB | 17.48 MiB/s, done.\n",
            "Resolving deltas: 100% (512/512), done.\n"
          ]
        }
      ]
    },
    {
      "cell_type": "markdown",
      "source": [
        "Download Folders from Colab and upzip into your Google Drive"
      ],
      "metadata": {
        "id": "KEwJHbygf30c"
      }
    },
    {
      "cell_type": "code",
      "execution_count": null,
      "metadata": {
        "id": "ZYi4bSfzI0c8"
      },
      "outputs": [],
      "source": [
        "!zip -r /content/drive/MyDrive/yolov7-seg.zip ./yolov7-seg/"
      ]
    },
    {
      "cell_type": "code",
      "source": [
        "!unzip /content/drive/MyDrive/yolov7-seg.zip -d /content/drive/MyDrive"
      ],
      "metadata": {
        "id": "Udj2kH1jj35t"
      },
      "execution_count": null,
      "outputs": []
    },
    {
      "cell_type": "code",
      "source": [
        "%cd /content/drive/MyDrive/yolov7-seg/"
      ],
      "metadata": {
        "colab": {
          "base_uri": "https://localhost:8080/"
        },
        "id": "9H9ScvAXkFQ0",
        "outputId": "0948d896-47bf-4dae-e05b-ed1d58143e93"
      },
      "execution_count": null,
      "outputs": [
        {
          "output_type": "stream",
          "name": "stdout",
          "text": [
            "/content/drive/MyDrive/yolov7-segmentation\n"
          ]
        }
      ]
    },
    {
      "cell_type": "markdown",
      "source": [
        "Download the init weight"
      ],
      "metadata": {
        "id": "2G12-cgmeaVf"
      }
    },
    {
      "cell_type": "code",
      "execution_count": null,
      "metadata": {
        "colab": {
          "base_uri": "https://localhost:8080/"
        },
        "id": "QGYcM7sPaTxP",
        "outputId": "54e5180b-4deb-4f82-ef15-f7e11e116796"
      },
      "outputs": [
        {
          "output_type": "stream",
          "name": "stdout",
          "text": [
            "Downloading...\n",
            "From: https://github.com/WongKinYiu/yolov7/releases/download/v0.1/yolov7-seg.pt\n",
            "To: /content/drive/MyDrive/yolov7-seg/seg/yolov7-seg.pt\n",
            "100% 77.0M/77.0M [00:00<00:00, 157MB/s]\n"
          ]
        }
      ],
      "source": [
        "!gdown \"https://github.com/WongKinYiu/yolov7/releases/download/v0.1/yolov7-seg.pt\""
      ]
    },
    {
      "cell_type": "markdown",
      "source": [
        "Install the packages"
      ],
      "metadata": {
        "id": "SOdnXtCGeUvv"
      }
    },
    {
      "cell_type": "code",
      "source": [
        "!pip install -r requirements.txt"
      ],
      "metadata": {
        "id": "GAUFcyZraO4A"
      },
      "execution_count": null,
      "outputs": []
    },
    {
      "cell_type": "markdown",
      "source": [
        "Install the pytorch version which is avaliable for YOLOv7-mask (optional)"
      ],
      "metadata": {
        "id": "kewmgZokegMn"
      }
    },
    {
      "cell_type": "code",
      "execution_count": null,
      "metadata": {
        "id": "9SroNPp1E-VZ"
      },
      "outputs": [],
      "source": [
        "pip install torch==1.13.1+cu116 torchvision==0.14.1+cu116 torchaudio==0.13.1 --extra-index-url https://download.pytorch.org/whl/cu116"
      ]
    },
    {
      "cell_type": "code",
      "execution_count": null,
      "metadata": {
        "colab": {
          "base_uri": "https://localhost:8080/"
        },
        "id": "qrcqZdiiBMHB",
        "outputId": "7d18bd51-116a-47b0-f5c5-bae046bb3ff8"
      },
      "outputs": [
        {
          "output_type": "stream",
          "name": "stdout",
          "text": [
            "1.13.1+cu116\n",
            "True\n"
          ]
        }
      ],
      "source": [
        "# Check using the GPU or not\n",
        "import torch\n",
        "print(torch.__version__)\n",
        "print(torch.cuda.is_available())"
      ]
    },
    {
      "cell_type": "code",
      "source": [
        "!nvidia-smi"
      ],
      "metadata": {
        "colab": {
          "base_uri": "https://localhost:8080/"
        },
        "id": "kWKAtiTEslwM",
        "outputId": "e9b5efa8-36fd-4557-ba10-13d93961569d"
      },
      "execution_count": null,
      "outputs": [
        {
          "output_type": "stream",
          "name": "stdout",
          "text": [
            "Fri Mar 24 03:39:14 2023       \n",
            "+-----------------------------------------------------------------------------+\n",
            "| NVIDIA-SMI 525.85.12    Driver Version: 525.85.12    CUDA Version: 12.0     |\n",
            "|-------------------------------+----------------------+----------------------+\n",
            "| GPU  Name        Persistence-M| Bus-Id        Disp.A | Volatile Uncorr. ECC |\n",
            "| Fan  Temp  Perf  Pwr:Usage/Cap|         Memory-Usage | GPU-Util  Compute M. |\n",
            "|                               |                      |               MIG M. |\n",
            "|===============================+======================+======================|\n",
            "|   0  Tesla T4            Off  | 00000000:00:04.0 Off |                    0 |\n",
            "| N/A   48C    P8     9W /  70W |      3MiB / 15360MiB |      0%      Default |\n",
            "|                               |                      |                  N/A |\n",
            "+-------------------------------+----------------------+----------------------+\n",
            "                                                                               \n",
            "+-----------------------------------------------------------------------------+\n",
            "| Processes:                                                                  |\n",
            "|  GPU   GI   CI        PID   Type   Process name                  GPU Memory |\n",
            "|        ID   ID                                                   Usage      |\n",
            "|=============================================================================|\n",
            "|  No running processes found                                                 |\n",
            "+-----------------------------------------------------------------------------+\n"
          ]
        }
      ]
    },
    {
      "cell_type": "markdown",
      "source": [
        "# Train on Custom Data\n",
        "\n",
        "---\n",
        "We're training for 100 epochs. And we start training from pretrained weight(yolov7-mask.pt) which is downloaded from github.\n",
        "\n",
        "The path of images and labels are stored in data.yaml.\n",
        "\n",
        "The results are all automatically generated and stored in the runs folder.\n"
      ],
      "metadata": {
        "id": "-pQqNfQqp_De"
      }
    },
    {
      "cell_type": "code",
      "execution_count": null,
      "metadata": {
        "id": "c6YiiIkNad6D"
      },
      "outputs": [],
      "source": [
        "!python segment/train.py --data ./data/data.yaml --batch 16 --weights ./runs/train-seg/yolov7-seg/weights/last.pt  --cfg yolov7-seg.yaml --epochs 100 --name yolov7-seg --img 640 --hyp hyp.scratch-high.yaml "
      ]
    },
    {
      "cell_type": "markdown",
      "source": [
        "# Test and Evaluate\n",
        "\n",
        "---\n",
        "Run test.py to validate the model performance.\n",
        "\n",
        "The result of testing data are saved in .\n",
        "\n",
        "Quantitative metric-mAP shows the model performance.\n",
        "\n"
      ],
      "metadata": {
        "id": "sSzjnZDbsbmn"
      }
    },
    {
      "cell_type": "code",
      "source": [
        "# Evaluation\n",
        "!python segment/val.py --weights ./runs/train-seg/yolov7-seg2/weights/best.pt --data ./data/data.yaml --iou-thres 0.5 --conf-thres 0.6"
      ],
      "metadata": {
        "colab": {
          "base_uri": "https://localhost:8080/"
        },
        "id": "_rjTCTLLgKVY",
        "outputId": "927282c9-141e-44ee-baa8-79d3ddcf4c3d"
      },
      "execution_count": null,
      "outputs": [
        {
          "output_type": "stream",
          "name": "stdout",
          "text": [
            "\u001b[34m\u001b[1msegment/val: \u001b[0mdata=/content/drive/MyDrive/yolov7-seg/seg/data/data.yaml, weights=['/content/drive/MyDrive/yolov7-seg/seg/runs/train-seg/yolov7-seg2/weights/best.pt'], batch_size=32, imgsz=640, conf_thres=0.6, iou_thres=0.5, max_det=300, task=val, device=, workers=8, single_cls=False, augment=False, verbose=False, save_txt=False, save_hybrid=False, save_conf=False, save_json=False, project=runs/val-seg, name=exp, exist_ok=False, half=False, dnn=False\n",
            "WARNING: confidence threshold 0.6 > 0.001 produces invalid results ⚠️\n",
            "YOLOv5 🚀 2023-3-27 Python-3.9.16 torch-1.13.1+cu116 CUDA:0 (Tesla T4, 15102MiB)\n",
            "\n",
            "Fusing layers... \n",
            "yolov7-seg summary: 325 layers, 37847870 parameters, 0 gradients, 141.9 GFLOPs\n",
            "\u001b[34m\u001b[1mval: \u001b[0mScanning '/content/drive/MyDrive/final_hole/labels/val.cache' images and labels... 112 found, 0 missing, 0 empty, 0 corrupt: 100% 112/112 [00:00<?, ?it/s]\n",
            "                 Class     Images  Instances      Box(P          R      mAP50  mAP50-95)     Mask(P          R      mAP50  mAP50-95): 100% 4/4 [00:19<00:00,  4.79s/it]\n",
            "                   all        112        112      0.939      0.871      0.925       0.78      0.933      0.865      0.922      0.719\n",
            "              handhole        112         85      0.965      0.965      0.972      0.793      0.953      0.953      0.966      0.753\n",
            "               manhole        112         27      0.913      0.778      0.878      0.768      0.913      0.778      0.878      0.684\n",
            "Speed: 2.1ms pre-process, 32.1ms inference, 2.2ms NMS per image at shape (32, 3, 640, 640)\n",
            "Results saved to \u001b[1mruns/val-seg/exp\u001b[0m\n"
          ]
        }
      ]
    },
    {
      "cell_type": "code",
      "source": [
        "# test one image\n",
        "!python segment/predict.py --weights ./runs/train-seg/yolov7-seg2/weights/best.pt --source /content/drive/MyDrive/final_hole/images/val/170727_020736227_Camera_4.jpg --iou-thres 0.5 --conf-thres 0.6"
      ],
      "metadata": {
        "colab": {
          "base_uri": "https://localhost:8080/"
        },
        "id": "PBDchsHzsiQ7",
        "outputId": "3bc1e14e-de5f-4283-b620-4fce9ff97345"
      },
      "execution_count": null,
      "outputs": [
        {
          "output_type": "stream",
          "name": "stdout",
          "text": [
            "\u001b[34m\u001b[1msegment/predict: \u001b[0mweights=['./runs/train-seg/yolov7-seg2/weights/best.pt'], source=/content/drive/MyDrive/final_hole/images/val/170727_020736227_Camera_4.jpg, data=data/coco128.yaml, imgsz=[640, 640], conf_thres=0.6, iou_thres=0.5, max_det=1000, device=, view_img=False, save_txt=False, save_conf=False, save_crop=False, nosave=False, classes=None, agnostic_nms=False, augment=False, visualize=False, update=False, project=runs/predict-seg, name=exp, exist_ok=False, line_thickness=3, hide_labels=False, hide_conf=False, half=False, dnn=False\n",
            "YOLOv5 🚀 2023-3-27 Python-3.9.16 torch-1.13.1+cu116 CUDA:0 (Tesla T4, 15102MiB)\n",
            "\n",
            "Fusing layers... \n",
            "yolov7-seg summary: 325 layers, 37847870 parameters, 0 gradients, 141.9 GFLOPs\n",
            "image 1/1 /content/drive/MyDrive/final_hole/images/val/170727_020736227_Camera_4.jpg: 544x640 1 handhole, 58.5ms\n",
            "Speed: 0.6ms pre-process, 58.5ms inference, 1.7ms NMS per image at shape (1, 3, 640, 640)\n",
            "Results saved to \u001b[1mruns/predict-seg/exp3\u001b[0m\n"
          ]
        }
      ]
    },
    {
      "cell_type": "code",
      "source": [
        "# test a folder\n",
        "!python segment/predict.py --weights ./runs/train-seg/yolov7-seg2/weights/best.pt --source /content/drive/MyDrive/final_hole/images/val --iou-thres 0.5 --conf-thres 0.6"
      ],
      "metadata": {
        "id": "9e7xcPdQKWaU"
      },
      "execution_count": null,
      "outputs": []
    },
    {
      "cell_type": "markdown",
      "source": [
        "# Clone YOLOv7 segmentation project (no download into your Drive)\n",
        "\n",
        "---\n",
        "If you didn't download the whole project in the your Goole Drive, you could just run the code on the virtual space.\n"
      ],
      "metadata": {
        "id": "-ktqAC5ChIVx"
      }
    },
    {
      "cell_type": "code",
      "execution_count": null,
      "metadata": {
        "id": "rcvdVq7zZ4UO"
      },
      "outputs": [],
      "source": [
        "!git clone https://github.com/WongKinYiu/yolov7 -b u7 yolov7-seg"
      ]
    },
    {
      "cell_type": "code",
      "source": [
        "%cd /content/drive/MyDrive/yolov7-seg/"
      ],
      "metadata": {
        "id": "kHZ_YFxlhcKY"
      },
      "execution_count": null,
      "outputs": []
    }
  ],
  "metadata": {
    "accelerator": "GPU",
    "colab": {
      "provenance": [],
      "include_colab_link": true
    },
    "gpuClass": "standard",
    "kernelspec": {
      "display_name": "Python 3",
      "name": "python3"
    },
    "language_info": {
      "name": "python"
    }
  },
  "nbformat": 4,
  "nbformat_minor": 0
}